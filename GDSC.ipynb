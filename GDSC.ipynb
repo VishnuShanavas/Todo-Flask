{
  "nbformat": 4,
  "nbformat_minor": 0,
  "metadata": {
    "colab": {
      "provenance": [],
      "authorship_tag": "ABX9TyOEQqBfHfUoveTzda0O8Dg+",
      "include_colab_link": true
    },
    "kernelspec": {
      "name": "python3",
      "display_name": "Python 3"
    },
    "language_info": {
      "name": "python"
    }
  },
  "cells": [
    {
      "cell_type": "markdown",
      "metadata": {
        "id": "view-in-github",
        "colab_type": "text"
      },
      "source": [
        "<a href=\"https://colab.research.google.com/github/VishnuShanavas/Todo-Flask/blob/main/GDSC.ipynb\" target=\"_parent\"><img src=\"https://colab.research.google.com/assets/colab-badge.svg\" alt=\"Open In Colab\"/></a>"
      ]
    },
    {
      "cell_type": "code",
      "execution_count": null,
      "metadata": {
        "colab": {
          "base_uri": "https://localhost:8080/"
        },
        "id": "lQ2T2rXEGPea",
        "outputId": "152b3405-711a-4d61-d1d7-60b9c8d25f13"
      },
      "outputs": [
        {
          "output_type": "stream",
          "name": "stdout",
          "text": [
            "Requirement already satisfied: scikit-learn in /usr/local/lib/python3.10/dist-packages (1.2.2)\n",
            "Requirement already satisfied: numpy>=1.17.3 in /usr/local/lib/python3.10/dist-packages (from scikit-learn) (1.25.2)\n",
            "Requirement already satisfied: scipy>=1.3.2 in /usr/local/lib/python3.10/dist-packages (from scikit-learn) (1.11.4)\n",
            "Requirement already satisfied: joblib>=1.1.1 in /usr/local/lib/python3.10/dist-packages (from scikit-learn) (1.3.2)\n",
            "Requirement already satisfied: threadpoolctl>=2.0.0 in /usr/local/lib/python3.10/dist-packages (from scikit-learn) (3.2.0)\n"
          ]
        }
      ],
      "source": [
        "pip install scikit-learn"
      ]
    },
    {
      "cell_type": "code",
      "source": [
        "from sklearn.svm import SVC\n",
        "from sklearn.model_selection import train_test_split\n",
        "from sklearn.metrics import accuracy_score\n",
        "import numpy as np\n",
        "\n",
        "# Define the mapping of choices to integers\n",
        "choices = {'rock': 0, 'paper': 1, 'scissors': 2}\n",
        "\n",
        "# Define training data\n",
        "# Example: [0, 1, 2] represents [rock, paper, scissors]\n",
        "X_train = np.array([\n",
        "    [0], [1], [2],  # rock, paper, scissors\n",
        "    [1], [2], [0],  # paper, scissors, rock\n",
        "    [2], [0], [1]   # scissors, rock, paper\n",
        "])\n",
        "\n",
        "# Corresponding labels for the training data\n",
        "y_train = np.array([1, 2, 0, 2, 0, 1, 0, 1, 2])  # Wins for the CPU\n",
        "\n",
        "# Create an SVM classifier\n",
        "clf = SVC(kernel='linear')\n",
        "\n",
        "# Train the classifier\n",
        "clf.fit(X_train, y_train)\n",
        "\n",
        "# Function to play against the model\n",
        "def play(choice):\n",
        "    user_choice = choices[choice]\n",
        "    cpu_choice = clf.predict([[user_choice]])\n",
        "    return list(choices.keys())[list(choices.values()).index(cpu_choice)]\n",
        "\n",
        "# Example usage:\n",
        "user_choice = input(\"Enter your choice (rock, paper, scissors): \")\n",
        "cpu_choice = play(user_choice)\n",
        "print(\"CPU chose:\", cpu_choice)"
      ],
      "metadata": {
        "colab": {
          "base_uri": "https://localhost:8080/"
        },
        "id": "wAw3aD7kJHSX",
        "outputId": "2dddb1c6-a7c6-461b-8ac9-948b57f0237b"
      },
      "execution_count": null,
      "outputs": [
        {
          "output_type": "stream",
          "name": "stdout",
          "text": [
            "Enter your choice (rock, paper, scissors): rock\n",
            "CPU chose: paper\n"
          ]
        }
      ]
    }
  ]
}